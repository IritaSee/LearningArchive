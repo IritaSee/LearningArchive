{
  "nbformat": 4,
  "nbformat_minor": 0,
  "metadata": {
    "colab": {
      "name": "Multiple Linear Regression - Try it Yourself!.ipynb",
      "provenance": [],
      "collapsed_sections": [],
      "include_colab_link": true
    },
    "kernelspec": {
      "name": "python3",
      "display_name": "Python 3"
    }
  },
  "cells": [
    {
      "cell_type": "markdown",
      "metadata": {
        "id": "view-in-github",
        "colab_type": "text"
      },
      "source": [
        "<a href=\"https://colab.research.google.com/github/IritaSee/LearningArchive/blob/master/Multiple_Linear_Regression_Try_it_Yourself!.ipynb\" target=\"_parent\"><img src=\"https://colab.research.google.com/assets/colab-badge.svg\" alt=\"Open In Colab\"/></a>"
      ]
    },
    {
      "cell_type": "markdown",
      "metadata": {
        "id": "g7hE2s6_X3ii"
      },
      "source": [
        "# Multiple Linear Regression"
      ]
    },
    {
      "cell_type": "markdown",
      "metadata": {
        "id": "oZiTcNGuX-Nb"
      },
      "source": [
        "# Import Library"
      ]
    },
    {
      "cell_type": "code",
      "metadata": {
        "id": "71FTGfgYYwvo"
      },
      "source": [
        "# Import library yang dibutuhkan"
      ],
      "execution_count": null,
      "outputs": []
    },
    {
      "cell_type": "markdown",
      "metadata": {
        "id": "juFOspnjYBM8"
      },
      "source": [
        "# Load Dataset"
      ]
    },
    {
      "cell_type": "code",
      "metadata": {
        "id": "8qy-WGeRYxg8"
      },
      "source": [
        "# Load dataset yang digunakan"
      ],
      "execution_count": null,
      "outputs": []
    },
    {
      "cell_type": "markdown",
      "metadata": {
        "id": "nmrj1s2cYGeI"
      },
      "source": [
        "# Dataset Overview"
      ]
    },
    {
      "cell_type": "code",
      "metadata": {
        "id": "oQWDs1wGYx_b"
      },
      "source": [
        "# Melihat lima baris teratas dari dataset"
      ],
      "execution_count": null,
      "outputs": []
    },
    {
      "cell_type": "code",
      "metadata": {
        "id": "dwWWzAzmZjQT"
      },
      "source": [
        "# Melihat informasi mengenai dataset seperti tipe data, jumlah data, dll"
      ],
      "execution_count": null,
      "outputs": []
    },
    {
      "cell_type": "code",
      "metadata": {
        "id": "uFnqLAyHaDWD"
      },
      "source": [
        "# Melihat informasi secara statistik dari dataset seperti mean, median, standar deviation, min, max, dll"
      ],
      "execution_count": null,
      "outputs": []
    },
    {
      "cell_type": "markdown",
      "metadata": {
        "id": "pHIbmX0iYKnC"
      },
      "source": [
        "# Handling Missing Values"
      ]
    },
    {
      "cell_type": "code",
      "metadata": {
        "id": "y_hZVtrbYyed"
      },
      "source": [
        "# Mencari missing values dari dataset"
      ],
      "execution_count": null,
      "outputs": []
    },
    {
      "cell_type": "markdown",
      "metadata": {
        "id": "QDOZIY39YNWO"
      },
      "source": [
        "# Exploratory Data Analysis (EDA)"
      ]
    },
    {
      "cell_type": "markdown",
      "metadata": {
        "id": "F6vE8u53dI6D"
      },
      "source": [
        "Data Analysis"
      ]
    },
    {
      "cell_type": "code",
      "metadata": {
        "id": "G9ii9AX-bS-Q"
      },
      "source": [
        "# Lihat kembali 5 baris teratas dataset"
      ],
      "execution_count": null,
      "outputs": []
    },
    {
      "cell_type": "code",
      "metadata": {
        "id": "GZwpdJu2Yy5Q"
      },
      "source": [
        "# Mengetahui nilai korelasi dari independent variable dan dependent variable"
      ],
      "execution_count": null,
      "outputs": []
    },
    {
      "cell_type": "markdown",
      "metadata": {
        "id": "QDSc1gQCdYg8"
      },
      "source": [
        "Data Visualization"
      ]
    },
    {
      "cell_type": "code",
      "metadata": {
        "id": "EqH3_G65btPl"
      },
      "source": [
        "# Univariative analysis independent variable 'bedrooms' \n",
        "# Melihat distribusi dari independent variable 'bedrooms'"
      ],
      "execution_count": null,
      "outputs": []
    },
    {
      "cell_type": "code",
      "metadata": {
        "id": "rRyOJWrxbJlT"
      },
      "source": [
        "# Bivariate analysis antara independent variable dan dependent variable"
      ],
      "execution_count": null,
      "outputs": []
    },
    {
      "cell_type": "markdown",
      "metadata": {
        "id": "o-4yLUx3dcn9"
      },
      "source": [
        "Data Preprocessing"
      ]
    },
    {
      "cell_type": "code",
      "metadata": {
        "id": "R48CZGvpdfNL"
      },
      "source": [
        "# Merubah tipe data dari independent variable yang semula float menjadi int"
      ],
      "execution_count": null,
      "outputs": []
    },
    {
      "cell_type": "markdown",
      "metadata": {
        "id": "edGvangtYYJi"
      },
      "source": [
        "# Linear Regression Modeling\n",
        "\n"
      ]
    },
    {
      "cell_type": "code",
      "metadata": {
        "id": "M4JsqHJWYzqE"
      },
      "source": [
        "# Lihat kembali 5 baris teratas dataset"
      ],
      "execution_count": null,
      "outputs": []
    },
    {
      "cell_type": "code",
      "metadata": {
        "id": "p5R3VAH5bbUv"
      },
      "source": [
        "# Membuat variabel x dan y"
      ],
      "execution_count": null,
      "outputs": []
    },
    {
      "cell_type": "code",
      "metadata": {
        "id": "7B3axZTQeXdi"
      },
      "source": [
        "# Membagi data menjadi data training dan data testing dengan porsi 80:20"
      ],
      "execution_count": null,
      "outputs": []
    },
    {
      "cell_type": "code",
      "metadata": {
        "id": "TySF_HupekzQ"
      },
      "source": [
        "# Membuat objek regresi linear"
      ],
      "execution_count": null,
      "outputs": []
    },
    {
      "cell_type": "code",
      "metadata": {
        "id": "Uw7iA89zeqbQ"
      },
      "source": [
        "# Train model menggunakan data training yang sudah dibagi"
      ],
      "execution_count": null,
      "outputs": []
    },
    {
      "cell_type": "code",
      "metadata": {
        "id": "Y1o2SWrveztM"
      },
      "source": [
        "# Mencari nilai slope/koefisien dan intercept"
      ],
      "execution_count": null,
      "outputs": []
    },
    {
      "cell_type": "markdown",
      "metadata": {
        "id": "yo0ixkhgfGWW"
      },
      "source": [
        "Persamaan linear: ..."
      ]
    },
    {
      "cell_type": "markdown",
      "metadata": {
        "id": "AXnFFV7Xg3NS"
      },
      "source": [
        "Cek Akurasi"
      ]
    },
    {
      "cell_type": "code",
      "metadata": {
        "id": "BhKd3thjfmVl"
      },
      "source": [
        "# Mencari tau akurasi dari model dengan R Squared"
      ],
      "execution_count": null,
      "outputs": []
    },
    {
      "cell_type": "markdown",
      "metadata": {
        "id": "TK6ZQ92wg8Je"
      },
      "source": [
        "Evaluasi Model dengan RMSE"
      ]
    },
    {
      "cell_type": "code",
      "metadata": {
        "id": "aJAIOJ5rhDGw"
      },
      "source": [
        "# Membuat variabel hasil prediksi dari data testing x_test"
      ],
      "execution_count": null,
      "outputs": []
    },
    {
      "cell_type": "code",
      "metadata": {
        "id": "bf2Ps6ohhLZU"
      },
      "source": [
        "# Menghitung RMSE (Root Mean Squared Error)"
      ],
      "execution_count": null,
      "outputs": []
    },
    {
      "cell_type": "markdown",
      "metadata": {
        "id": "6bxCJKC_Yi3g"
      },
      "source": [
        "# Prediction"
      ]
    },
    {
      "cell_type": "code",
      "metadata": {
        "id": "rOOWIz0UY0KL"
      },
      "source": [
        "# Prediksi harga rumah"
      ],
      "execution_count": null,
      "outputs": []
    },
    {
      "cell_type": "markdown",
      "metadata": {
        "id": "xJRsf316hSgs"
      },
      "source": [
        "# Saving Model"
      ]
    },
    {
      "cell_type": "code",
      "metadata": {
        "id": "J_NLOdpvhWW9"
      },
      "source": [
        "# Menyimpan model menggunakan pickle"
      ],
      "execution_count": null,
      "outputs": []
    }
  ]
}